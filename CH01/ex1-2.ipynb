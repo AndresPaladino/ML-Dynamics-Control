{
 "cells": [
  {
   "cell_type": "markdown",
   "id": "83744bf9",
   "metadata": {},
   "source": [
    "**Exercise 1-2.**  \n",
    "Load the image *dog.jpg* and compute the economy SVD. Compute the relative reconstruction error of the truncated SVD in the *Frobenius* norm as a function of the rank *r*. Square this error to compute the fraction of missing variance as a function of *r*. You may also decide to plot 1 minus the error or missing variance to visualize the amount of norm or variance captured at a given rank *r*.  \n",
    "\n",
    "Plot these quantities along with the cumulative sum of singular values as a function of *r*. Find the rank *r* where the reconstruction captures 99% of the total variance. Compare this with the rank *r* where the reconstruction captures 99% in the Frobenius norm and with the rank *r* that captures 99% of the cumulative sum of singular values.\n"
   ]
  }
 ],
 "metadata": {
  "language_info": {
   "name": "python"
  }
 },
 "nbformat": 4,
 "nbformat_minor": 5
}
