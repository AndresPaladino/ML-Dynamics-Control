{
 "cells": [
  {
   "cell_type": "code",
   "execution_count": 13,
   "id": "3f4590ff",
   "metadata": {},
   "outputs": [],
   "source": [
    "import numpy as np\n",
    "import matplotlib.pyplot as plt\n",
    "from matplotlib.animation import FuncAnimation\n",
    "from scipy.io import loadmat\n",
    "import pandas as pd\n",
    "import os\n",
    "data = loadmat(os.path.join(\"..\",\"data\",\"CYLINDER_ALL.mat\"))\n",
    "X = data['VORTALL']\n",
    "nx, ny = data['nx'][0][0], data['ny'][0][0]\n",
    "vmin, vmax = np.percentile(X, 1), np.percentile(X, 99) # Para tener una escala de color consistente, \n",
    "                                                       #primera vez que lo uso, antes nose que tan corectas quedaron las graficas"
   ]
  },
  {
   "cell_type": "code",
   "execution_count": 14,
   "id": "2a52cffd",
   "metadata": {},
   "outputs": [],
   "source": [
    "fig, ax = plt.subplots(1,1, figsize=(5,5))\n",
    "im = ax.imshow(X[:,0].reshape((nx,ny),order='F'),cmap='PuBu', vmin=vmin, vmax=vmax)\n",
    "ax.set_xticks([]); ax.set_yticks([]); ax.set_aspect(\"equal\")\n",
    "def update_original(frame):\n",
    "    snap = X[:, frame].reshape((nx, ny), order=\"F\")\n",
    "    im.set_array(snap)\n",
    "    return (im,)\n",
    "ani2 = FuncAnimation(fig, update_original, frames=X.shape[1], interval=100, blit=False)\n",
    "\n",
    "output_dir = os.path.join(\"..\",\"CH01\",\"generated_visualizations\")\n",
    "os.makedirs(output_dir, exist_ok=True)  # Ensure the directory exists\n",
    "ani2.save(os.path.join(output_dir, \"readmeGif.gif\"), writer=\"pillow\", dpi=140)\n",
    "plt.close(fig)"
   ]
  }
 ],
 "metadata": {
  "kernelspec": {
   "display_name": "ddse",
   "language": "python",
   "name": "python3"
  },
  "language_info": {
   "codemirror_mode": {
    "name": "ipython",
    "version": 3
   },
   "file_extension": ".py",
   "mimetype": "text/x-python",
   "name": "python",
   "nbconvert_exporter": "python",
   "pygments_lexer": "ipython3",
   "version": "3.13.7"
  }
 },
 "nbformat": 4,
 "nbformat_minor": 5
}
